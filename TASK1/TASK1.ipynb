{
 "cells": [
  {
   "cell_type": "markdown",
   "id": "cc7795d5-2a70-44dc-a6b2-a6f7706d6642",
   "metadata": {},
   "source": [
    "# Ejercicio: ¿Deberíamos decir adiós a ese cliente?"
   ]
  },
  {
   "cell_type": "markdown",
   "id": "34a2f483-4dba-4b27-9e08-42266e5528bc",
   "metadata": {},
   "source": [
    "Utiliza nuestro modelo de RNA para predecir si el cliente con la siguiente información abandonará el banco:\n",
    "\n",
    "\n",
    "\n",
    "Geografia: Francia\n",
    "\n",
    "Puntaje de crédito: 600\n",
    "\n",
    "Género masculino\n",
    "\n",
    "Edad: 40 años de edad\n",
    "\n",
    "Tenencia: 3 años.\n",
    "\n",
    "Saldo: $ 60000\n",
    "\n",
    "Número de productos: 2\n",
    "\n",
    "¿Este cliente tiene una tarjeta de crédito? Sí\n",
    "\n",
    "¿Es este cliente un miembro activo? Sí\n",
    "\n",
    "Salario estimado: $ 50000\n",
    "\n",
    "Entonces, ¿deberíamos decir adiós a ese cliente?\n",
    "\n",
    "\n",
    "\n",
    "La solución se proporciona en el vídeo al final de la tarea realizada pero te recomiendo que intentes resolverla por su cuenta.\n",
    "\n",
    "\n",
    "\n",
    "\n",
    "\n",
    "¡Disfruta del aprendizaje profundo!"
   ]
  },
  {
   "cell_type": "code",
   "execution_count": 25,
   "id": "15be526a-fe4b-4add-8742-6bf6ee90576c",
   "metadata": {},
   "outputs": [],
   "source": [
    "import pandas as pd\n",
    "import torch\n",
    "import torch.optim as optim\n",
    "from sklearn.preprocessing import LabelEncoder\n",
    "from sklearn.model_selection import train_test_split\n",
    "from sklearn.preprocessing import StandardScaler\n",
    "import torch.nn as nn"
   ]
  },
  {
   "cell_type": "code",
   "execution_count": 26,
   "id": "dd727b26-e118-4024-bb98-c324093575f4",
   "metadata": {},
   "outputs": [
    {
     "data": {
      "text/plain": [
       "<bound method NDFrame.head of       RowNumber  CustomerId    Surname  CreditScore Geography  Gender  Age  \\\n",
       "0             1    15634602   Hargrave          619    France  Female   42   \n",
       "1             2    15647311       Hill          608     Spain  Female   41   \n",
       "2             3    15619304       Onio          502    France  Female   42   \n",
       "3             4    15701354       Boni          699    France  Female   39   \n",
       "4             5    15737888   Mitchell          850     Spain  Female   43   \n",
       "...         ...         ...        ...          ...       ...     ...  ...   \n",
       "9995       9996    15606229   Obijiaku          771    France    Male   39   \n",
       "9996       9997    15569892  Johnstone          516    France    Male   35   \n",
       "9997       9998    15584532        Liu          709    France  Female   36   \n",
       "9998       9999    15682355  Sabbatini          772   Germany    Male   42   \n",
       "9999      10000    15628319     Walker          792    France  Female   28   \n",
       "\n",
       "      Tenure    Balance  NumOfProducts  HasCrCard  IsActiveMember  \\\n",
       "0          2       0.00              1          1               1   \n",
       "1          1   83807.86              1          0               1   \n",
       "2          8  159660.80              3          1               0   \n",
       "3          1       0.00              2          0               0   \n",
       "4          2  125510.82              1          1               1   \n",
       "...      ...        ...            ...        ...             ...   \n",
       "9995       5       0.00              2          1               0   \n",
       "9996      10   57369.61              1          1               1   \n",
       "9997       7       0.00              1          0               1   \n",
       "9998       3   75075.31              2          1               0   \n",
       "9999       4  130142.79              1          1               0   \n",
       "\n",
       "      EstimatedSalary  Exited  \n",
       "0           101348.88       1  \n",
       "1           112542.58       0  \n",
       "2           113931.57       1  \n",
       "3            93826.63       0  \n",
       "4            79084.10       0  \n",
       "...               ...     ...  \n",
       "9995         96270.64       0  \n",
       "9996        101699.77       0  \n",
       "9997         42085.58       1  \n",
       "9998         92888.52       1  \n",
       "9999         38190.78       0  \n",
       "\n",
       "[10000 rows x 14 columns]>"
      ]
     },
     "execution_count": 26,
     "metadata": {},
     "output_type": "execute_result"
    }
   ],
   "source": [
    "df = pd.read_csv('./Churn_Modelling.csv')\n",
    "df.head"
   ]
  },
  {
   "cell_type": "markdown",
   "id": "6c063107-0f60-4fe8-827c-bfa2ed15a6ae",
   "metadata": {},
   "source": []
  },
  {
   "cell_type": "markdown",
   "id": "10596f7d-2071-45c5-b92b-a57fc8b9a83d",
   "metadata": {},
   "source": [
    "## Encode Categorical Data"
   ]
  },
  {
   "cell_type": "code",
   "execution_count": 27,
   "id": "470c9f03-3a80-4ec7-a72f-a7b35e80e54c",
   "metadata": {},
   "outputs": [
    {
     "name": "stdout",
     "output_type": "stream",
     "text": [
      "      RowNumber  CustomerId    Surname  CreditScore  Gender  Age  Tenure  \\\n",
      "0             1    15634602   Hargrave          619       0   42       2   \n",
      "1             2    15647311       Hill          608       0   41       1   \n",
      "2             3    15619304       Onio          502       0   42       8   \n",
      "3             4    15701354       Boni          699       0   39       1   \n",
      "4             5    15737888   Mitchell          850       0   43       2   \n",
      "...         ...         ...        ...          ...     ...  ...     ...   \n",
      "9995       9996    15606229   Obijiaku          771       1   39       5   \n",
      "9996       9997    15569892  Johnstone          516       1   35      10   \n",
      "9997       9998    15584532        Liu          709       0   36       7   \n",
      "9998       9999    15682355  Sabbatini          772       1   42       3   \n",
      "9999      10000    15628319     Walker          792       0   28       4   \n",
      "\n",
      "        Balance  NumOfProducts  HasCrCard  IsActiveMember  EstimatedSalary  \\\n",
      "0          0.00              1          1               1        101348.88   \n",
      "1      83807.86              1          0               1        112542.58   \n",
      "2     159660.80              3          1               0        113931.57   \n",
      "3          0.00              2          0               0         93826.63   \n",
      "4     125510.82              1          1               1         79084.10   \n",
      "...         ...            ...        ...             ...              ...   \n",
      "9995       0.00              2          1               0         96270.64   \n",
      "9996   57369.61              1          1               1        101699.77   \n",
      "9997       0.00              1          0               1         42085.58   \n",
      "9998   75075.31              2          1               0         92888.52   \n",
      "9999  130142.79              1          1               0         38190.78   \n",
      "\n",
      "      Exited  Geography_France  Geography_Germany  Geography_Spain  \n",
      "0          1              True              False            False  \n",
      "1          0             False              False             True  \n",
      "2          1              True              False            False  \n",
      "3          0              True              False            False  \n",
      "4          0             False              False             True  \n",
      "...      ...               ...                ...              ...  \n",
      "9995       0              True              False            False  \n",
      "9996       0              True              False            False  \n",
      "9997       1              True              False            False  \n",
      "9998       1             False               True            False  \n",
      "9999       0              True              False            False  \n",
      "\n",
      "[10000 rows x 16 columns]\n"
     ]
    }
   ],
   "source": [
    "df = pd.get_dummies(df, columns=['Geography'])\n",
    "gender_enc = {\n",
    "    'Male': 1,\n",
    "    'Female': 0,\n",
    "}\n",
    "df['Gender'] = df['Gender'].map(gender_enc)\n",
    "print(df)"
   ]
  },
  {
   "cell_type": "markdown",
   "id": "99167b39-10f1-4732-a80c-60deb5c2522e",
   "metadata": {},
   "source": [
    "## Divide dataset in train and evaluation"
   ]
  },
  {
   "cell_type": "code",
   "execution_count": 28,
   "id": "917b9fe2-2223-4722-adf8-9a89ad5e2e3f",
   "metadata": {},
   "outputs": [
    {
     "data": {
      "text/plain": [
       "pandas.core.frame.DataFrame"
      ]
     },
     "execution_count": 28,
     "metadata": {},
     "output_type": "execute_result"
    }
   ],
   "source": [
    "# Define charasteristics and objective\n",
    "X = df[['CreditScore','Gender', 'Geography_France','Geography_Spain','Geography_France','Age','Tenure', 'Balance','NumOfProducts','IsActiveMember','HasCrCard']]\n",
    "y = df['Exited']\n",
    "\n",
    "X_train, X_test, y_train, y_test = train_test_split(X, y, test_size=0.2, random_state=42)\n",
    "type(X_train)"
   ]
  },
  {
   "cell_type": "markdown",
   "id": "90a95664-252d-4ec8-bac6-7557ded77a9c",
   "metadata": {},
   "source": [
    "## Scale variables"
   ]
  },
  {
   "cell_type": "code",
   "execution_count": 29,
   "id": "0831f8c4-fead-437d-a969-f914fcfbb06a",
   "metadata": {},
   "outputs": [
    {
     "data": {
      "text/plain": [
       "numpy.ndarray"
      ]
     },
     "execution_count": 29,
     "metadata": {},
     "output_type": "execute_result"
    }
   ],
   "source": [
    "scaler = StandardScaler()\n",
    "X_train_scaled = scaler.fit_transform(X_train) # X_train it's a np array\n",
    "X_test_scaled = scaler.transform(X_test)\n",
    "\n",
    "type(X_train)\n",
    "type(y_train.values)"
   ]
  },
  {
   "cell_type": "markdown",
   "id": "caf08a11-f9ea-4e69-baa6-4c47729074d2",
   "metadata": {},
   "source": [
    "## Convert to tensor"
   ]
  },
  {
   "cell_type": "code",
   "execution_count": 30,
   "id": "39f56368-afa3-459c-855e-d515f02e6f32",
   "metadata": {},
   "outputs": [
    {
     "name": "stdout",
     "output_type": "stream",
     "text": [
      "8000\n"
     ]
    },
    {
     "data": {
      "text/plain": [
       "8000"
      ]
     },
     "execution_count": 30,
     "metadata": {},
     "output_type": "execute_result"
    }
   ],
   "source": [
    "X_train_tensor = torch.tensor(X_train_scaled, dtype=torch.float32)\n",
    "X_test_tensor = torch.tensor(X_test_scaled, dtype=torch.float32)\n",
    "y_train_tensor = torch.tensor(y_train.values.reshape(-1, 1), dtype=torch.float32) # How the output it's unidimensional, we have to converto to bidimensional\n",
    "y_test_tensor = torch.tensor(y_test.values.reshape(-1, 1), dtype=torch.float32)\n",
    "print(X_train_tensor.shape[0])\n",
    "len(X_train_tensor)"
   ]
  },
  {
   "cell_type": "markdown",
   "id": "ee2d0308-8d16-4676-b993-0a4d9a7482e0",
   "metadata": {},
   "source": [
    "## Build ANN"
   ]
  },
  {
   "cell_type": "code",
   "execution_count": 31,
   "id": "5f04c9e4-fe67-4fa2-86b9-e804a3e65b26",
   "metadata": {},
   "outputs": [],
   "source": [
    "class NeuralNetwork(nn.Module):\n",
    "    def __init__(self):\n",
    "        super(NeuralNetwork, self).__init__()\n",
    "        self.layer1 = nn.Linear(11,6)\n",
    "        self.relu = nn.ReLU()\n",
    "        self.dropout1 = nn.Dropout(p=0.1) # 0,1???\n",
    "        self.layer2 = nn.Linear(6, 6)\n",
    "        self.dropout2 = nn.Dropout(p=0.1)\n",
    "        self.output_layer = nn.Linear(6, 1)\n",
    "\n",
    "        self.sigmoid = nn.Sigmoid()\n",
    "\n",
    "    def forward(self, x):\n",
    "        x = self.layer1(x)\n",
    "        x = self.relu(x)\n",
    "        x = self.dropout1(x)\n",
    "\n",
    "        x = self.layer2(x)\n",
    "        x = self.relu(x)\n",
    "        x = self.dropout2(x)\n",
    "\n",
    "        x = self.output_layer(x)\n",
    "        x = self.sigmoid(x)\n",
    "        return x\n",
    "\n",
    "model = NeuralNetwork()\n",
    "\n",
    "# Define Loss function and optimizer\n",
    "criterion = nn.BCELoss() # Binary Cross Entropy Loss\n",
    "optimizer = optim.Adam(model.parameters())  # Optimizador Adam"
   ]
  },
  {
   "cell_type": "markdown",
   "id": "f627dd84-e33f-47ea-8370-d68124ca9368",
   "metadata": {},
   "source": [
    "## Train ANN"
   ]
  },
  {
   "cell_type": "code",
   "execution_count": 32,
   "id": "0c96eab2-0a1b-475f-b7ff-5f38c172f267",
   "metadata": {},
   "outputs": [
    {
     "name": "stdout",
     "output_type": "stream",
     "text": [
      "Epoch [10/100], Loss: 0.5805\n",
      "Epoch [20/100], Loss: 0.4393\n",
      "Epoch [30/100], Loss: 0.3640\n",
      "Epoch [40/100], Loss: 0.3461\n",
      "Epoch [50/100], Loss: 0.4533\n",
      "Epoch [60/100], Loss: 0.3742\n",
      "Epoch [70/100], Loss: 0.5224\n",
      "Epoch [80/100], Loss: 0.3643\n",
      "Epoch [90/100], Loss: 0.3603\n",
      "Epoch [100/100], Loss: 0.5730\n"
     ]
    }
   ],
   "source": [
    "epochs = 100\n",
    "batch_size = 10\n",
    "model.train()  \n",
    "for epoch in range(epochs):\n",
    "    for i in range(0, X_train_tensor.shape[0], batch_size):\n",
    "        inputs = X_train_tensor[i:i+batch_size]\n",
    "        labels = y_train_tensor[i:i+batch_size]\n",
    "        \n",
    "        optimizer.zero_grad()   # Restart gradients\n",
    "        outputs = model(inputs)\n",
    "        loss = criterion(outputs, labels)  # Calc loss\n",
    "        loss.backward()  # Backpropagation\n",
    "        optimizer.step()  # Update weights\n",
    "\n",
    "    if (epoch+1) % 10 == 0:\n",
    "            print(f'Epoch [{epoch+1}/{epochs}], Loss: {loss.item():.4f}')"
   ]
  },
  {
   "cell_type": "markdown",
   "id": "25c3855c-4a26-4402-8a27-8e046b85d959",
   "metadata": {},
   "source": [
    "## Eval and calc final predictions"
   ]
  },
  {
   "cell_type": "code",
   "execution_count": 33,
   "id": "d7ca79a4-e34e-4409-81f5-25aa657e550e",
   "metadata": {},
   "outputs": [
    {
     "name": "stdout",
     "output_type": "stream",
     "text": [
      "Test Loss: 0.3350\n",
      "tensor([[False],\n",
      "        [False],\n",
      "        [False],\n",
      "        ...,\n",
      "        [ True],\n",
      "        [False],\n",
      "        [False]])\n"
     ]
    }
   ],
   "source": [
    "model.eval()  \n",
    "with torch.no_grad(): \n",
    "    outputs = model(X_test_tensor)\n",
    "    loss = criterion(outputs, y_test_tensor)\n",
    "    print(f'Test Loss: {loss.item():.4f}')\n",
    "    outputs = (outputs>0.5)\n",
    "    print(outputs)"
   ]
  },
  {
   "cell_type": "markdown",
   "id": "222bcd2f-ed89-4782-84c0-2937e87d041e",
   "metadata": {},
   "source": [
    "## Elaborate Matriz Confussion"
   ]
  },
  {
   "cell_type": "code",
   "execution_count": 34,
   "id": "52c52fd5-9913-447a-8137-5ec66d083f1c",
   "metadata": {},
   "outputs": [
    {
     "name": "stdout",
     "output_type": "stream",
     "text": [
      "tensor([[0.],\n",
      "        [0.],\n",
      "        [0.],\n",
      "        ...,\n",
      "        [1.],\n",
      "        [1.],\n",
      "        [1.]])\n",
      "Confussion Matrix\n",
      "[[1533   74]\n",
      " [ 201  192]]\n"
     ]
    }
   ],
   "source": [
    "from sklearn.metrics import confusion_matrix\n",
    "print(y_test_tensor)\n",
    "cm = confusion_matrix(y_test_tensor.numpy(), outputs.numpy()) # Confussion matrix only accepts np arrays\n",
    "print(\"Confussion Matrix\")\n",
    "print(cm)"
   ]
  },
  {
   "cell_type": "code",
   "execution_count": 35,
   "id": "ab683622-fc40-4bcd-aa12-316157f2eb45",
   "metadata": {},
   "outputs": [
    {
     "name": "stdout",
     "output_type": "stream",
     "text": [
      "Accuracy:\n"
     ]
    },
    {
     "data": {
      "text/plain": [
       "np.float64(0.8625)"
      ]
     },
     "execution_count": 35,
     "metadata": {},
     "output_type": "execute_result"
    }
   ],
   "source": [
    "print(\"Accuracy:\") #sum true positives and true negatives / total preds\n",
    "(cm[0][0]+cm[1][1])/cm.sum()"
   ]
  },
  {
   "cell_type": "markdown",
   "id": "a4611dd4-155e-4d7b-9d3e-0b8cb6eb8609",
   "metadata": {},
   "source": [
    "## PREDICTION OF THE EXERCISE WITH EXERCISE DATA"
   ]
  },
  {
   "cell_type": "code",
   "execution_count": 50,
   "id": "36486c0c-4dc4-4eaa-a011-030e5f790bf5",
   "metadata": {},
   "outputs": [
    {
     "name": "stdout",
     "output_type": "stream",
     "text": [
      "   CreditScore  Gender  Geography_France  Geography_Spain  Geography_Germany  \\\n",
      "0          600       1                 1                0                  0   \n",
      "\n",
      "   Age  Tenure  Balance  NumOfProducts  IsActiveMember  HasCrCard  \n",
      "0   40       3    60000              2               1          1  \n",
      "<class 'numpy.ndarray'>\n",
      "tensor([[-0.5775,  0.9132, -0.9985,  ...,  0.8084, -1.0258, -1.5404],\n",
      "        [-0.2973,  0.9132,  1.0015,  ...,  0.8084,  0.9748,  0.6492],\n",
      "        [-0.5256, -1.0950, -0.9985,  ...,  0.8084, -1.0258,  0.6492],\n",
      "        ...,\n",
      "        [ 0.8131, -1.0950,  1.0015,  ..., -0.9167, -1.0258,  0.6492],\n",
      "        [ 0.4188,  0.9132,  1.0015,  ..., -0.9167, -1.0258,  0.6492],\n",
      "        [-0.2454,  0.9132, -0.9985,  ..., -0.9167,  0.9748,  0.6492]])\n"
     ]
    }
   ],
   "source": [
    "X = {\n",
    "    'CreditScore': [600],\n",
    "    'Gender': [1],\n",
    "    'Geography_France': [1],\n",
    "    'Geography_Spain': [0],\n",
    "    'Geography_Germany': [0],\n",
    "    'Age': [40],\n",
    "    'Tenure': [3],\n",
    "    'Balance': [60000],\n",
    "    'NumOfProducts': [2],\n",
    "    'IsActiveMember': [1],\n",
    "    'HasCrCard': [1],\n",
    "}\n",
    "\n",
    "X_exercise = pd.DataFrame(X)\n",
    "print(X_exercise)\n",
    "print(type(X_exercise.values))\n",
    "X_exercise_tensor = torch.tensor(X_exercise.values, dtype=torch.float32)\n",
    "print(X_test_tensor)"
   ]
  },
  {
   "cell_type": "code",
   "execution_count": 51,
   "id": "792f8c5c-2ba7-4052-898e-3eee7858e1fb",
   "metadata": {},
   "outputs": [
    {
     "name": "stdout",
     "output_type": "stream",
     "text": [
      "tensor([[True]])\n"
     ]
    }
   ],
   "source": [
    "model.eval()  \n",
    "with torch.no_grad(): \n",
    "    outputs = model(X_exercise_tensor)\n",
    "    outputs = (outputs>0.5)\n",
    "    print(outputs)"
   ]
  },
  {
   "cell_type": "code",
   "execution_count": null,
   "id": "cecb6c90-ae4f-498c-af1b-f615d20ff282",
   "metadata": {},
   "outputs": [],
   "source": []
  }
 ],
 "metadata": {
  "kernelspec": {
   "display_name": "Python 3 (ipykernel)",
   "language": "python",
   "name": "python3"
  },
  "language_info": {
   "codemirror_mode": {
    "name": "ipython",
    "version": 3
   },
   "file_extension": ".py",
   "mimetype": "text/x-python",
   "name": "python",
   "nbconvert_exporter": "python",
   "pygments_lexer": "ipython3",
   "version": "3.9.19"
  }
 },
 "nbformat": 4,
 "nbformat_minor": 5
}
