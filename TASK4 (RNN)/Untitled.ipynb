{
 "cells": [
  {
   "cell_type": "code",
   "execution_count": 2,
   "id": "64b69335-cc85-4ea3-be93-98aa2d81a3bc",
   "metadata": {},
   "outputs": [],
   "source": [
    "import torch\n",
    "import torch.nn as nn"
   ]
  },
  {
   "cell_type": "code",
   "execution_count": 5,
   "id": "8c6651f6-60c7-4fc2-8ab6-deacca657b72",
   "metadata": {},
   "outputs": [
    {
     "name": "stdout",
     "output_type": "stream",
     "text": [
      "Tensor en GPU: tensor([[-1.0353,  1.2586,  1.0957],\n",
      "        [-0.2402,  0.7928, -0.0946],\n",
      "        [ 0.0366,  0.5626, -0.9296]])\n",
      "CUDA disponible: False\n"
     ]
    }
   ],
   "source": [
    "device = torch.device('cuda' if torch.cuda.is_available() else 'cpu')\n",
    "tensor_gpu = torch.randn(3, 3, device=device)\n",
    "print(\"Tensor en GPU:\", tensor_gpu)\n",
    "cuda_available = torch.cuda.is_available()\n",
    "print(\"CUDA disponible:\", cuda_available)"
   ]
  },
  {
   "cell_type": "code",
   "execution_count": null,
   "id": "e33db837-9c22-421d-9e28-1904141360f4",
   "metadata": {},
   "outputs": [],
   "source": []
  }
 ],
 "metadata": {
  "kernelspec": {
   "display_name": "Python 3 (ipykernel)",
   "language": "python",
   "name": "python3"
  },
  "language_info": {
   "codemirror_mode": {
    "name": "ipython",
    "version": 3
   },
   "file_extension": ".py",
   "mimetype": "text/x-python",
   "name": "python",
   "nbconvert_exporter": "python",
   "pygments_lexer": "ipython3",
   "version": "3.9.19"
  }
 },
 "nbformat": 4,
 "nbformat_minor": 5
}
