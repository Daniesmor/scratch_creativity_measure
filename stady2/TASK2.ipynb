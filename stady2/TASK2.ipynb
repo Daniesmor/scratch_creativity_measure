{
 "cells": [
  {
   "cell_type": "markdown",
   "id": "cc7795d5-2a70-44dc-a6b2-a6f7706d6642",
   "metadata": {},
   "source": [
    "# Ejercicio: ¿Deberíamos decir adiós a ese cliente?"
   ]
  },
  {
   "cell_type": "markdown",
   "id": "34a2f483-4dba-4b27-9e08-42266e5528bc",
   "metadata": {},
   "source": [
    "Utiliza nuestro modelo de RNA para predecir si el cliente con la siguiente información abandonará el banco:\n",
    "\n",
    "\n",
    "\n",
    "Geografia: Francia\n",
    "\n",
    "Puntaje de crédito: 600\n",
    "\n",
    "Género masculino\n",
    "\n",
    "Edad: 40 años de edad\n",
    "\n",
    "Tenencia: 3 años.\n",
    "\n",
    "Saldo: $ 60000\n",
    "\n",
    "Número de productos: 2\n",
    "\n",
    "¿Este cliente tiene una tarjeta de crédito? Sí\n",
    "\n",
    "¿Es este cliente un miembro activo? Sí\n",
    "\n",
    "Salario estimado: $ 50000\n",
    "\n",
    "Entonces, ¿deberíamos decir adiós a ese cliente?\n",
    "\n",
    "\n",
    "\n",
    "La solución se proporciona en el vídeo al final de la tarea realizada pero te recomiendo que intentes resolverla por su cuenta.\n",
    "\n",
    "\n",
    "\n",
    "\n",
    "\n",
    "¡Disfruta del aprendizaje profundo!"
   ]
  },
  {
   "cell_type": "code",
   "execution_count": 8,
   "id": "15be526a-fe4b-4add-8742-6bf6ee90576c",
   "metadata": {},
   "outputs": [],
   "source": [
    "import pandas as pd\n",
    "import torch\n",
    "import torch.optim as optim\n",
    "from sklearn.preprocessing import LabelEncoder\n",
    "from sklearn.model_selection import train_test_split\n",
    "from sklearn.preprocessing import StandardScaler\n",
    "import torch.nn as nn"
   ]
  },
  {
   "cell_type": "code",
   "execution_count": 9,
   "id": "dd727b26-e118-4024-bb98-c324093575f4",
   "metadata": {},
   "outputs": [
    {
     "data": {
      "text/plain": [
       "<bound method NDFrame.head of       RowNumber  CustomerId    Surname  CreditScore Geography  Gender  Age  \\\n",
       "0             1    15634602   Hargrave          619    France  Female   42   \n",
       "1             2    15647311       Hill          608     Spain  Female   41   \n",
       "2             3    15619304       Onio          502    France  Female   42   \n",
       "3             4    15701354       Boni          699    France  Female   39   \n",
       "4             5    15737888   Mitchell          850     Spain  Female   43   \n",
       "...         ...         ...        ...          ...       ...     ...  ...   \n",
       "9995       9996    15606229   Obijiaku          771    France    Male   39   \n",
       "9996       9997    15569892  Johnstone          516    France    Male   35   \n",
       "9997       9998    15584532        Liu          709    France  Female   36   \n",
       "9998       9999    15682355  Sabbatini          772   Germany    Male   42   \n",
       "9999      10000    15628319     Walker          792    France  Female   28   \n",
       "\n",
       "      Tenure    Balance  NumOfProducts  HasCrCard  IsActiveMember  \\\n",
       "0          2       0.00              1          1               1   \n",
       "1          1   83807.86              1          0               1   \n",
       "2          8  159660.80              3          1               0   \n",
       "3          1       0.00              2          0               0   \n",
       "4          2  125510.82              1          1               1   \n",
       "...      ...        ...            ...        ...             ...   \n",
       "9995       5       0.00              2          1               0   \n",
       "9996      10   57369.61              1          1               1   \n",
       "9997       7       0.00              1          0               1   \n",
       "9998       3   75075.31              2          1               0   \n",
       "9999       4  130142.79              1          1               0   \n",
       "\n",
       "      EstimatedSalary  Exited  \n",
       "0           101348.88       1  \n",
       "1           112542.58       0  \n",
       "2           113931.57       1  \n",
       "3            93826.63       0  \n",
       "4            79084.10       0  \n",
       "...               ...     ...  \n",
       "9995         96270.64       0  \n",
       "9996        101699.77       0  \n",
       "9997         42085.58       1  \n",
       "9998         92888.52       1  \n",
       "9999         38190.78       0  \n",
       "\n",
       "[10000 rows x 14 columns]>"
      ]
     },
     "execution_count": 9,
     "metadata": {},
     "output_type": "execute_result"
    }
   ],
   "source": [
    "df = pd.read_csv('./Churn_Modelling.csv')\n",
    "df.head"
   ]
  },
  {
   "cell_type": "markdown",
   "id": "6c063107-0f60-4fe8-827c-bfa2ed15a6ae",
   "metadata": {},
   "source": []
  },
  {
   "cell_type": "markdown",
   "id": "10596f7d-2071-45c5-b92b-a57fc8b9a83d",
   "metadata": {},
   "source": [
    "## Encode Categorical Data"
   ]
  },
  {
   "cell_type": "code",
   "execution_count": 10,
   "id": "470c9f03-3a80-4ec7-a72f-a7b35e80e54c",
   "metadata": {},
   "outputs": [
    {
     "name": "stdout",
     "output_type": "stream",
     "text": [
      "      RowNumber  CustomerId    Surname  CreditScore  Gender  Age  Tenure  \\\n",
      "0             1    15634602   Hargrave          619       0   42       2   \n",
      "1             2    15647311       Hill          608       0   41       1   \n",
      "2             3    15619304       Onio          502       0   42       8   \n",
      "3             4    15701354       Boni          699       0   39       1   \n",
      "4             5    15737888   Mitchell          850       0   43       2   \n",
      "...         ...         ...        ...          ...     ...  ...     ...   \n",
      "9995       9996    15606229   Obijiaku          771       1   39       5   \n",
      "9996       9997    15569892  Johnstone          516       1   35      10   \n",
      "9997       9998    15584532        Liu          709       0   36       7   \n",
      "9998       9999    15682355  Sabbatini          772       1   42       3   \n",
      "9999      10000    15628319     Walker          792       0   28       4   \n",
      "\n",
      "        Balance  NumOfProducts  HasCrCard  IsActiveMember  EstimatedSalary  \\\n",
      "0          0.00              1          1               1        101348.88   \n",
      "1      83807.86              1          0               1        112542.58   \n",
      "2     159660.80              3          1               0        113931.57   \n",
      "3          0.00              2          0               0         93826.63   \n",
      "4     125510.82              1          1               1         79084.10   \n",
      "...         ...            ...        ...             ...              ...   \n",
      "9995       0.00              2          1               0         96270.64   \n",
      "9996   57369.61              1          1               1        101699.77   \n",
      "9997       0.00              1          0               1         42085.58   \n",
      "9998   75075.31              2          1               0         92888.52   \n",
      "9999  130142.79              1          1               0         38190.78   \n",
      "\n",
      "      Exited  Geography_France  Geography_Germany  Geography_Spain  \n",
      "0          1              True              False            False  \n",
      "1          0             False              False             True  \n",
      "2          1              True              False            False  \n",
      "3          0              True              False            False  \n",
      "4          0             False              False             True  \n",
      "...      ...               ...                ...              ...  \n",
      "9995       0              True              False            False  \n",
      "9996       0              True              False            False  \n",
      "9997       1              True              False            False  \n",
      "9998       1             False               True            False  \n",
      "9999       0              True              False            False  \n",
      "\n",
      "[10000 rows x 16 columns]\n"
     ]
    }
   ],
   "source": [
    "df = pd.get_dummies(df, columns=['Geography'])\n",
    "gender_enc = {\n",
    "    'Male': 1,\n",
    "    'Female': 0,\n",
    "}\n",
    "df['Gender'] = df['Gender'].map(gender_enc)\n",
    "print(df)"
   ]
  },
  {
   "cell_type": "markdown",
   "id": "99167b39-10f1-4732-a80c-60deb5c2522e",
   "metadata": {},
   "source": [
    "## Divide dataset in train and evaluation"
   ]
  },
  {
   "cell_type": "code",
   "execution_count": 11,
   "id": "917b9fe2-2223-4722-adf8-9a89ad5e2e3f",
   "metadata": {},
   "outputs": [
    {
     "data": {
      "text/plain": [
       "pandas.core.frame.DataFrame"
      ]
     },
     "execution_count": 11,
     "metadata": {},
     "output_type": "execute_result"
    }
   ],
   "source": [
    "# Define charasteristics and objective\n",
    "X = df[['CreditScore','Gender', 'Geography_France','Geography_Spain','Geography_Germany','Age','Tenure', 'Balance','NumOfProducts','IsActiveMember','HasCrCard']]\n",
    "y = df['Exited']\n",
    "\n",
    "X_train, X_test, y_train, y_test = train_test_split(X, y, test_size=0.2, random_state=42)\n",
    "type(X_train)"
   ]
  },
  {
   "cell_type": "markdown",
   "id": "90a95664-252d-4ec8-bac6-7557ded77a9c",
   "metadata": {},
   "source": [
    "## Scale variables"
   ]
  },
  {
   "cell_type": "code",
   "execution_count": 12,
   "id": "0831f8c4-fead-437d-a969-f914fcfbb06a",
   "metadata": {},
   "outputs": [
    {
     "data": {
      "text/plain": [
       "numpy.ndarray"
      ]
     },
     "execution_count": 12,
     "metadata": {},
     "output_type": "execute_result"
    }
   ],
   "source": [
    "scaler = StandardScaler()\n",
    "X_train_scaled = scaler.fit_transform(X_train) # X_train it's a np array\n",
    "X_test_scaled = scaler.transform(X_test)\n",
    "\n",
    "type(X_train)\n",
    "type(y_train.values)"
   ]
  },
  {
   "cell_type": "markdown",
   "id": "caf08a11-f9ea-4e69-baa6-4c47729074d2",
   "metadata": {},
   "source": [
    "## Convert to tensor"
   ]
  },
  {
   "cell_type": "code",
   "execution_count": 13,
   "id": "39f56368-afa3-459c-855e-d515f02e6f32",
   "metadata": {},
   "outputs": [
    {
     "name": "stdout",
     "output_type": "stream",
     "text": [
      "8000\n"
     ]
    },
    {
     "data": {
      "text/plain": [
       "8000"
      ]
     },
     "execution_count": 13,
     "metadata": {},
     "output_type": "execute_result"
    }
   ],
   "source": [
    "X_train_tensor = torch.tensor(X_train_scaled, dtype=torch.float32)\n",
    "X_test_tensor = torch.tensor(X_test_scaled, dtype=torch.float32)\n",
    "y_train_tensor = torch.tensor(y_train.values.reshape(-1, 1), dtype=torch.float32) # How the output it's unidimensional, we have to converto to bidimensional\n",
    "y_test_tensor = torch.tensor(y_test.values.reshape(-1, 1), dtype=torch.float32)\n",
    "print(X_train_tensor.shape[0])\n",
    "len(X_train_tensor)"
   ]
  },
  {
   "cell_type": "markdown",
   "id": "ee2d0308-8d16-4676-b993-0a4d9a7482e0",
   "metadata": {},
   "source": [
    "## Build ANN"
   ]
  },
  {
   "cell_type": "code",
   "execution_count": 14,
   "id": "5f04c9e4-fe67-4fa2-86b9-e804a3e65b26",
   "metadata": {},
   "outputs": [],
   "source": [
    "class NeuralNetwork(nn.Module):\n",
    "    def __init__(self):\n",
    "        super(NeuralNetwork, self).__init__()\n",
    "        self.layer1 = nn.Linear(11,6)\n",
    "        self.relu = nn.ReLU()\n",
    "        self.dropout1 = nn.Dropout(p=0.1) # 0,1???\n",
    "        self.layer2 = nn.Linear(6, 6)\n",
    "        self.dropout2 = nn.Dropout(p=0.1)\n",
    "        self.output_layer = nn.Linear(6, 1)\n",
    "\n",
    "        self.sigmoid = nn.Sigmoid()\n",
    "\n",
    "    def forward(self, x):\n",
    "        x = self.layer1(x)\n",
    "        x = self.relu(x)\n",
    "        x = self.dropout1(x)\n",
    "\n",
    "        x = self.layer2(x)\n",
    "        x = self.relu(x)\n",
    "        x = self.dropout2(x)\n",
    "\n",
    "        x = self.output_layer(x)\n",
    "        x = self.sigmoid(x)\n",
    "        return x\n",
    "\n",
    "model = NeuralNetwork()\n",
    "\n",
    "# Define Loss function and optimizer\n",
    "criterion = nn.BCELoss() # Binary Cross Entropy Loss\n",
    "optimizer = optim.Adam(model.parameters())  # Optimizador Adam"
   ]
  },
  {
   "cell_type": "markdown",
   "id": "f627dd84-e33f-47ea-8370-d68124ca9368",
   "metadata": {},
   "source": [
    "## Train ANN"
   ]
  },
  {
   "cell_type": "code",
   "execution_count": 30,
   "id": "0c96eab2-0a1b-475f-b7ff-5f38c172f267",
   "metadata": {},
   "outputs": [
    {
     "name": "stdout",
     "output_type": "stream",
     "text": [
      "Epoch [10/100], Loss: 0.4160\n",
      "Epoch [20/100], Loss: 0.3924\n",
      "Epoch [30/100], Loss: 0.3904\n",
      "Epoch [40/100], Loss: 0.4698\n",
      "Epoch [50/100], Loss: 0.5141\n",
      "Epoch [60/100], Loss: 0.4079\n",
      "Epoch [70/100], Loss: 0.4443\n",
      "Epoch [80/100], Loss: 0.3943\n",
      "Epoch [90/100], Loss: 0.4243\n",
      "Epoch [100/100], Loss: 0.4080\n"
     ]
    }
   ],
   "source": [
    "epochs = 100\n",
    "batch_size = 10\n",
    "model.train()  \n",
    "for epoch in range(epochs):\n",
    "    for i in range(0, X_train_tensor.shape[0], batch_size):\n",
    "        inputs = X_train_tensor[i:i+batch_size]\n",
    "        labels = y_train_tensor[i:i+batch_size]\n",
    "        \n",
    "        optimizer.zero_grad()   # Restart gradients\n",
    "        outputs = model(inputs)\n",
    "        loss = criterion(outputs, labels)  # Calc loss\n",
    "        loss.backward()  # Backpropagation\n",
    "        optimizer.step()  # Update weights\n",
    "\n",
    "    if (epoch+1) % 10 == 0:\n",
    "            print(f'Epoch [{epoch+1}/{epochs}], Loss: {loss.item():.4f}')"
   ]
  },
  {
   "cell_type": "markdown",
   "id": "25c3855c-4a26-4402-8a27-8e046b85d959",
   "metadata": {},
   "source": [
    "## Eval and calc final predictions"
   ]
  },
  {
   "cell_type": "code",
   "execution_count": 31,
   "id": "d7ca79a4-e34e-4409-81f5-25aa657e550e",
   "metadata": {},
   "outputs": [
    {
     "name": "stdout",
     "output_type": "stream",
     "text": [
      "Test Loss: 0.3350\n",
      "tensor([[False],\n",
      "        [False],\n",
      "        [False],\n",
      "        ...,\n",
      "        [ True],\n",
      "        [False],\n",
      "        [False]])\n"
     ]
    }
   ],
   "source": [
    "model.eval()  \n",
    "with torch.no_grad(): \n",
    "    outputs = model(X_test_tensor)\n",
    "    loss = criterion(outputs, y_test_tensor)\n",
    "    print(f'Test Loss: {loss.item():.4f}')\n",
    "    outputs = (outputs>0.5)\n",
    "    print(outputs)"
   ]
  },
  {
   "cell_type": "markdown",
   "id": "222bcd2f-ed89-4782-84c0-2937e87d041e",
   "metadata": {},
   "source": [
    "## Elaborate Matriz Confussion"
   ]
  },
  {
   "cell_type": "code",
   "execution_count": 32,
   "id": "52c52fd5-9913-447a-8137-5ec66d083f1c",
   "metadata": {},
   "outputs": [
    {
     "name": "stdout",
     "output_type": "stream",
     "text": [
      "tensor([[0.],\n",
      "        [0.],\n",
      "        [0.],\n",
      "        ...,\n",
      "        [1.],\n",
      "        [1.],\n",
      "        [1.]])\n",
      "Confussion Matrix\n",
      "[[1544   63]\n",
      " [ 213  180]]\n"
     ]
    }
   ],
   "source": [
    "from sklearn.metrics import confusion_matrix\n",
    "print(y_test_tensor)\n",
    "cm = confusion_matrix(y_test_tensor.numpy(), outputs.numpy()) # Confussion matrix only accepts np arrays\n",
    "print(\"Confussion Matrix\")\n",
    "print(cm)"
   ]
  },
  {
   "cell_type": "code",
   "execution_count": 33,
   "id": "ab683622-fc40-4bcd-aa12-316157f2eb45",
   "metadata": {},
   "outputs": [
    {
     "name": "stdout",
     "output_type": "stream",
     "text": [
      "Accuracy:\n"
     ]
    },
    {
     "data": {
      "text/plain": [
       "np.float64(0.862)"
      ]
     },
     "execution_count": 33,
     "metadata": {},
     "output_type": "execute_result"
    }
   ],
   "source": [
    "print(\"Accuracy:\") #sum true positives and true negatives / total preds\n",
    "(cm[0][0]+cm[1][1])/cm.sum()"
   ]
  },
  {
   "cell_type": "markdown",
   "id": "a4611dd4-155e-4d7b-9d3e-0b8cb6eb8609",
   "metadata": {},
   "source": [
    "## PREDICTION OF THE EXERCISE WITH EXERCISE DATA"
   ]
  },
  {
   "cell_type": "code",
   "execution_count": 8,
   "id": "36486c0c-4dc4-4eaa-a011-030e5f790bf5",
   "metadata": {},
   "outputs": [
    {
     "name": "stdout",
     "output_type": "stream",
     "text": [
      "   CreditScore  Gender  Geography_France  Geography_Spain  Geography_Germany  \\\n",
      "0          600       1                 1                0                  0   \n",
      "\n",
      "   Age  Tenure  Balance  NumOfProducts  IsActiveMember  HasCrCard  \n",
      "0   40       3    60000              2               1          1  \n",
      "<class 'numpy.ndarray'>\n",
      "tensor([[-0.5775,  0.9132, -0.9985,  ...,  0.8084, -1.0258, -1.5404],\n",
      "        [-0.2973,  0.9132,  1.0015,  ...,  0.8084,  0.9748,  0.6492],\n",
      "        [-0.5256, -1.0950, -0.9985,  ...,  0.8084, -1.0258,  0.6492],\n",
      "        ...,\n",
      "        [ 0.8131, -1.0950,  1.0015,  ..., -0.9167, -1.0258,  0.6492],\n",
      "        [ 0.4188,  0.9132,  1.0015,  ..., -0.9167, -1.0258,  0.6492],\n",
      "        [-0.2454,  0.9132, -0.9985,  ..., -0.9167,  0.9748,  0.6492]])\n"
     ]
    }
   ],
   "source": [
    "X = {\n",
    "    'CreditScore': [600],\n",
    "    'Gender': [1],\n",
    "    'Geography_France': [1],\n",
    "    'Geography_Spain': [0],\n",
    "    'Geography_Germany': [0],\n",
    "    'Age': [40],\n",
    "    'Tenure': [3],\n",
    "    'Balance': [60000],\n",
    "    'NumOfProducts': [2],\n",
    "    'IsActiveMember': [1],\n",
    "    'HasCrCard': [1],\n",
    "}\n",
    "\n",
    "X_exercise = pd.DataFrame(X)\n",
    "print(X_exercise)\n",
    "print(type(X_exercise.values))\n",
    "X_exercise_tensor = torch.tensor(X_exercise.values, dtype=torch.float32)\n",
    "print(X_test_tensor)"
   ]
  },
  {
   "cell_type": "code",
   "execution_count": 35,
   "id": "792f8c5c-2ba7-4052-898e-3eee7858e1fb",
   "metadata": {},
   "outputs": [
    {
     "name": "stdout",
     "output_type": "stream",
     "text": [
      "tensor([[True]])\n"
     ]
    }
   ],
   "source": [
    "model.eval()  \n",
    "with torch.no_grad(): \n",
    "    outputs = model(X_exercise_tensor)\n",
    "    outputs = (outputs>0.5)\n",
    "    print(outputs)"
   ]
  },
  {
   "cell_type": "markdown",
   "id": "cb8559f9-7d36-41de-9b87-4ffb8902ddbc",
   "metadata": {},
   "source": [
    "# EXERCISE 2"
   ]
  },
  {
   "cell_type": "markdown",
   "id": "b1ce9768-8f79-4877-ae8a-007fe8af4856",
   "metadata": {},
   "source": [
    "Intenta conseguir la medalla de oro consiguiendo una precisión del 86% utilizando la k-Fold Cross Validation.\n",
    "\n",
    "Como recordatorio:\n",
    "\n",
    "- Medalla de bronce: precisión entre 84% y 85%\n",
    "\n",
    "- Medalla de plata: precisión entre 85% y 86%\n",
    "\n",
    "- Medalla de oro: precisión superior al 86%\n",
    "\n",
    "Buena suerte e intenta conseguir la medalla de oro."
   ]
  },
  {
   "cell_type": "code",
   "execution_count": 15,
   "id": "d7ae7ce1-db2e-4d13-8dae-1623bdad6703",
   "metadata": {},
   "outputs": [],
   "source": [
    "import torch\n",
    "import torch.nn as nn\n",
    "import torch.optim as optim\n",
    "from torch.utils.data import Dataset, DataLoader, Subset, TensorDataset\n",
    "from sklearn.model_selection import KFold\n",
    "import numpy as np"
   ]
  },
  {
   "cell_type": "code",
   "execution_count": 16,
   "id": "53002685-ae45-4902-9786-1f6ab1ded0cc",
   "metadata": {},
   "outputs": [],
   "source": [
    "df = pd.read_csv('./Churn_Modelling.csv')\n",
    "df = pd.get_dummies(df, columns=['Geography'])\n",
    "gender_enc = {\n",
    "    'Male': 1,\n",
    "    'Female': 0,\n",
    "}\n",
    "df['Gender'] = df['Gender'].map(gender_enc)\n",
    "\n",
    "X = df[['CreditScore','Gender', 'Geography_France','Geography_Spain','Geography_Germany','Age','Tenure', 'Balance','NumOfProducts','IsActiveMember','HasCrCard']]\n",
    "y = df['Exited']"
   ]
  },
  {
   "cell_type": "code",
   "execution_count": 17,
   "id": "bc649055-c067-47d3-aebf-3184911fd5aa",
   "metadata": {},
   "outputs": [
    {
     "name": "stdout",
     "output_type": "stream",
     "text": [
      "<torch.utils.data.dataset.TensorDataset object at 0x7894691caa00>\n",
      "Ejemplo 1:\n",
      "  X: tensor([-0.3262, -1.0960,  0.9972, -0.5738, -0.5787,  0.2935, -1.0418, -1.2258,\n",
      "        -0.9116,  0.9702,  0.6461])\n",
      "  y: tensor([1.])\n",
      "Ejemplo 2:\n",
      "  X: tensor([-0.4400, -1.0960, -1.0028,  1.7427, -0.5787,  0.1982, -1.3875,  0.1174,\n",
      "        -0.9116,  0.9702, -1.5478])\n",
      "  y: tensor([0.])\n",
      "Ejemplo 3:\n",
      "  X: tensor([-1.5368, -1.0960,  0.9972, -0.5738, -0.5787,  0.2935,  1.0329,  1.3331,\n",
      "         2.5271, -1.0307,  0.6461])\n",
      "  y: tensor([1.])\n"
     ]
    }
   ],
   "source": [
    "X = X.astype(float)\n",
    "\n",
    "y_tensor = torch.tensor(y.values, dtype=torch.float32).unsqueeze(1)\n",
    "\n",
    "\n",
    "scaler = StandardScaler()\n",
    "X_scaled = scaler.fit_transform(X)\n",
    "\n",
    "X_tensor = torch.tensor(X_scaled, dtype=torch.float32)\n",
    "\n",
    "dataset = TensorDataset(X_tensor, y_tensor)\n",
    "print(dataset)\n",
    "for i in range(3):\n",
    "    print(f\"Ejemplo {i + 1}:\")\n",
    "    print(f\"  X: {dataset[i][0]}\")\n",
    "    print(f\"  y: {dataset[i][1]}\")"
   ]
  },
  {
   "cell_type": "markdown",
   "id": "d05c60be-a89b-45ba-9b80-29b1f21fdc48",
   "metadata": {},
   "source": [
    "###\n",
    "    Index | Feature1 | Feature2 | Feature3 | Label\n",
    "    -------------------------------------------\n",
    "        0 |    0.73  |    0.42  |    0.58  |  1.0\n",
    "        1 |    0.61  |    0.73  |    0.89  |  0.0\n",
    "        2 |    0.48  |    0.59  |    0.15  |  1.0\n",
    "        3 |    0.34  |    0.25  |    0.76  |  0.0\n",
    "        4 |    0.53  |    0.64  |    0.32  |  1.0"
   ]
  },
  {
   "cell_type": "code",
   "execution_count": 18,
   "id": "b306d2c5-b45a-43b5-90d7-fe69a82e3f6f",
   "metadata": {},
   "outputs": [
    {
     "name": "stdout",
     "output_type": "stream",
     "text": [
      "Fold 0\n",
      "[   0    1    2 ... 9996 9998 9999]\n",
      "[   3    4   16 ... 9974 9976 9997]\n",
      "Accuracy loss: 84.6\n",
      "Validation Loss for fold 0: 0.37342016171664\n",
      "Fold 1\n",
      "[   1    2    3 ... 9997 9998 9999]\n",
      "[   0    6    9 ... 9988 9993 9994]\n",
      "Accuracy loss: 85.8\n",
      "Validation Loss for fold 1: 0.3615429665148258\n",
      "Fold 2\n",
      "[   0    1    3 ... 9997 9998 9999]\n",
      "[   2    8   38 ... 9987 9989 9995]\n",
      "Accuracy loss: 85.9\n",
      "Validation Loss for fold 2: 0.3551321718096733\n",
      "Fold 3\n",
      "[   0    2    3 ... 9996 9997 9999]\n",
      "[   1    5   10 ... 9991 9992 9998]\n",
      "Accuracy loss: 84.45\n",
      "Validation Loss for fold 3: 0.37087736155837775\n",
      "Fold 4\n",
      "[   0    1    2 ... 9995 9997 9998]\n",
      "[   7   15   19 ... 9990 9996 9999]\n",
      "Accuracy loss: 85.7\n",
      "Validation Loss for fold 4: 0.3443225518986583\n",
      "Mean Validation Loss: 0.36105904269963507\n",
      "Mean Accuracy: 85.28999999999999\n"
     ]
    }
   ],
   "source": [
    "from sklearn.metrics import confusion_matrix\n",
    "\n",
    "# If we use the order of miles simples, we should use k value of 5\n",
    "k_folds = 5\n",
    "kf = KFold(n_splits=k_folds, shuffle=True)\n",
    "\n",
    "results = {}\n",
    "accuracies = {}\n",
    "\n",
    "epochs = 100\n",
    " \n",
    "for fold, (train_idx, val_idx) in enumerate(kf.split(dataset)):\n",
    "    print(f\"Fold {fold}\")\n",
    "    print(train_idx)\n",
    "    print(val_idx)\n",
    "    train_subset = Subset(dataset, train_idx)\n",
    "    val_subset = Subset(dataset, val_idx)\n",
    "\n",
    "    train_loader = DataLoader(train_subset, batch_size=10, shuffle=True)\n",
    "    val_loader = DataLoader(val_subset, batch_size=10, shuffle=False)\n",
    "\n",
    "    model = NeuralNetwork()\n",
    "\n",
    "    criterion = nn.BCELoss()  # Binary Cross Entropy Loss\n",
    "    optimizer = optim.Adam(model.parameters()) \n",
    "\n",
    "    model.train()\n",
    "    for epoch in range(epochs):\n",
    "        for batch in train_loader:\n",
    "            inputs, labels = batch\n",
    "            optimizer.zero_grad() \n",
    "            outputs = model(inputs)\n",
    "            loss = criterion(outputs, labels) \n",
    "            loss.backward() \n",
    "            optimizer.step() \n",
    "\n",
    "    # Evaluación del modelo\n",
    "    model.eval()\n",
    "    val_loss = 0.0\n",
    "    correct = 0\n",
    "    total = 0\n",
    "    with torch.no_grad():\n",
    "        for batch in val_loader:\n",
    "            inputs, labels = batch\n",
    "            outputs = model(inputs)\n",
    "            predicted = (outputs > 0.5).float()\n",
    "            loss = criterion(outputs, labels)\n",
    "            val_loss += loss.item()\n",
    "\n",
    "            # Calc number of trues\n",
    "            correct += (predicted == labels).sum().item()\n",
    "            total += labels.size(0)\n",
    "\n",
    "            \n",
    "\n",
    "    val_loss /= len(val_loader)\n",
    "    accuracy = 100 * correct / total\n",
    "    accuracies[fold] = accuracy\n",
    "    print(f'Accuracy loss: {accuracy}')\n",
    "    print(f'Validation Loss for fold {fold}: {val_loss}')\n",
    "\n",
    "    results[fold] = val_loss\n",
    "\n",
    "mean_val_loss = sum(results.values()) / k_folds\n",
    "mean_acuc = sum(accuracies.values()) / k_folds\n",
    "print(f'Mean Validation Loss: {mean_val_loss}')\n",
    "print(f'Mean Accuracy: {mean_acuc}')"
   ]
  },
  {
   "cell_type": "code",
   "execution_count": 19,
   "id": "680233a3-0f92-4cfc-bfa9-ceb927d2d297",
   "metadata": {},
   "outputs": [
    {
     "name": "stdout",
     "output_type": "stream",
     "text": [
      "   CreditScore  Gender  Geography_France  Geography_Spain  Geography_Germany  \\\n",
      "0          600       1                 1                0                  0   \n",
      "\n",
      "   Age  Tenure  Balance  NumOfProducts  IsActiveMember  HasCrCard  \n",
      "0   40       3    60000              2               1          1  \n",
      "<class 'numpy.ndarray'>\n",
      "tensor([[-0.5775,  0.9132, -0.9985,  ...,  0.8084, -1.0258, -1.5404],\n",
      "        [-0.2973,  0.9132,  1.0015,  ...,  0.8084,  0.9748,  0.6492],\n",
      "        [-0.5256, -1.0950, -0.9985,  ...,  0.8084, -1.0258,  0.6492],\n",
      "        ...,\n",
      "        [ 0.8131, -1.0950,  1.0015,  ..., -0.9167, -1.0258,  0.6492],\n",
      "        [ 0.4188,  0.9132,  1.0015,  ..., -0.9167, -1.0258,  0.6492],\n",
      "        [-0.2454,  0.9132, -0.9985,  ..., -0.9167,  0.9748,  0.6492]])\n",
      "tensor([[True]])\n"
     ]
    }
   ],
   "source": [
    "X = {\n",
    "    'CreditScore': [600],\n",
    "    'Gender': [1],\n",
    "    'Geography_France': [1],\n",
    "    'Geography_Spain': [0],\n",
    "    'Geography_Germany': [0],\n",
    "    'Age': [40],\n",
    "    'Tenure': [3],\n",
    "    'Balance': [60000],\n",
    "    'NumOfProducts': [2],\n",
    "    'IsActiveMember': [1],\n",
    "    'HasCrCard': [1],\n",
    "}\n",
    "\n",
    "X_exercise = pd.DataFrame(X)\n",
    "print(X_exercise)\n",
    "print(type(X_exercise.values))\n",
    "X_exercise_tensor = torch.tensor(X_exercise.values, dtype=torch.float32)\n",
    "print(X_test_tensor)\n",
    "\n",
    "model.eval()  \n",
    "with torch.no_grad(): \n",
    "    outputs = model(X_exercise_tensor)\n",
    "    outputs = (outputs>0.5)\n",
    "    print(outputs)"
   ]
  },
  {
   "cell_type": "code",
   "execution_count": null,
   "id": "6e35f99d-1fad-47b7-abf2-23789c8a18d8",
   "metadata": {},
   "outputs": [],
   "source": [
    "from sklearn.metrics import confusion_matrix\n",
    "print(y_test_tensor)\n",
    "cm = confusion_matrix(y_test_tensor.numpy(), outputs.numpy()) # Confussion matrix only accepts np arrays\n",
    "print(\"Confussion Matrix\")\n",
    "print(cm)\n",
    "print(\"Accuracy:\") #sum true positives and true negatives / total preds\n",
    "(cm[0][0]+cm[1][1])/cm.sum()"
   ]
  },
  {
   "cell_type": "code",
   "execution_count": null,
   "id": "95759417-0916-44b2-b883-b08573ea841c",
   "metadata": {},
   "outputs": [],
   "source": []
  }
 ],
 "metadata": {
  "kernelspec": {
   "display_name": "Python 3 (ipykernel)",
   "language": "python",
   "name": "python3"
  },
  "language_info": {
   "codemirror_mode": {
    "name": "ipython",
    "version": 3
   },
   "file_extension": ".py",
   "mimetype": "text/x-python",
   "name": "python",
   "nbconvert_exporter": "python",
   "pygments_lexer": "ipython3",
   "version": "3.9.19"
  }
 },
 "nbformat": 4,
 "nbformat_minor": 5
}
