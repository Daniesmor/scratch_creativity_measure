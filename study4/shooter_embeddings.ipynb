{
 "cells": [
  {
   "cell_type": "markdown",
   "id": "4abc6318-066d-49c4-ae01-d5a9db3178b5",
   "metadata": {},
   "source": [
    "# EXTRACT SHOOTER PROJECTS"
   ]
  },
  {
   "cell_type": "code",
   "execution_count": 1,
   "id": "e0c9f895-534f-406f-be91-fec8fafbdc35",
   "metadata": {},
   "outputs": [],
   "source": [
    "import pandas as pd"
   ]
  },
  {
   "cell_type": "code",
   "execution_count": null,
   "id": "18d1c88f-33c0-4b9b-8f54-7b1924cba316",
   "metadata": {},
   "outputs": [],
   "source": [
    "master_df = pd.read_csv('CT4ALL-Master Spreadsheet.csv')\n",
    "triang_df = pd.read_csv('BIG_ct4all_master.csv')"
   ]
  }
 ],
 "metadata": {
  "kernelspec": {
   "display_name": "Python 3 (ipykernel)",
   "language": "python",
   "name": "python3"
  },
  "language_info": {
   "codemirror_mode": {
    "name": "ipython",
    "version": 3
   },
   "file_extension": ".py",
   "mimetype": "text/x-python",
   "name": "python",
   "nbconvert_exporter": "python",
   "pygments_lexer": "ipython3",
   "version": "3.9.19"
  }
 },
 "nbformat": 4,
 "nbformat_minor": 5
}
